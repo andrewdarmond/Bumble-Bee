{
 "cells": [
  {
   "cell_type": "markdown",
   "metadata": {
    "dc": {
     "key": "3"
    },
    "tags": [
     "context"
    ]
   },
   "source": [
    "---\n",
    "title: \"Sting like a Bee!\"\n",
    "authors: \n",
    "- admin\n",
    "categories:\n",
    "- Python\n",
    "- Deep Learning\n",
    "date: '2020-09-18'\n",
    "draft: no\n",
    "featured: no\n",
    "image:\n",
    "  caption: ''\n",
    "  focal_point: ''\n",
    "lastMod: '2020-09-19'\n",
    "projects:\n",
    "summary: Using Keras Deep Learning Package to predict on random images\n",
    "tags:\n",
    "- Python\n",
    "- Deep Learning\n",
    "- Image Classification\n",
    "- Computer Vision\n",
    "---"
   ]
  },
  {
   "cell_type": "markdown",
   "metadata": {},
   "source": [
    "## 1. Import Python libraries\n",
    "<p><img src=\"https://assets.datacamp.com/production/project_555/img/92_notebook.jpg\" alt=\"honey bee\">\n",
    "<em>A honey bee (Apis).</em></p>\n",
    "<p>Can a machine identify a bee as a honey bee or a bumble bee? These bees have different <a href=\"https://www.thesca.org/connect/blog/bumblebees-vs-honeybees-what%E2%80%99s-difference-and-why-does-it-matter\">behaviors and appearances</a>, but given the variety of backgrounds, positions, and image resolutions, it can be a challenge for machines to tell them apart.</p>\n",
    "<p>Being able to identify bee species from images is a task that ultimately would allow researchers to more quickly and effectively collect field data. Pollinating bees have critical roles in both ecology and agriculture, and diseases like <a href=\"http://news.harvard.edu/gazette/story/2015/07/pesticide-found-in-70-percent-of-massachusetts-honey-samples/\">colony collapse disorder</a> threaten these species. Identifying different species of bees in the wild means that we can better understand the prevalence and growth of these important insects.</p>\n",
    "<p><img src=\"https://assets.datacamp.com/production/project_555/img/20_notebook.jpg\" alt=\"bumble bee\">\n",
    "<em>A bumble bee (Bombus).</em></p>\n",
    "<p>This notebook walks through building a simple deep learning model that can automatically detect honey bees and bumble bees and then loads a pre-trained model for evaluation.</p>"
   ]
  },
  {
   "cell_type": "code",
   "execution_count": 2,
   "metadata": {
    "dc": {
     "key": "3"
    },
    "tags": [
     "sample_code"
    ]
   },
   "outputs": [
    {
     "name": "stderr",
     "output_type": "stream",
     "text": [
      "Using TensorFlow backend.\n"
     ]
    }
   ],
   "source": [
    "import pickle\n",
    "from pathlib import Path\n",
    "from skimage import io\n",
    "\n",
    "import pandas as pd\n",
    "import numpy as np\n",
    "\n",
    "import matplotlib.pyplot as plt\n",
    "%matplotlib inline\n",
    "\n",
    "from sklearn.preprocessing import StandardScaler\n",
    "from sklearn.model_selection import train_test_split\n",
    "from sklearn.metrics import classification_report\n",
    "\n",
    "# import keras library\n",
    "import keras\n",
    "\n",
    "# import Sequential from the keras models module\n",
    "from keras.models import Sequential\n",
    "\n",
    "# import Dense, Dropout, Flatten, Conv2D, MaxPooling2D from the keras layers module\n",
    "from keras.layers import Dense, Dropout, Flatten, Conv2D, MaxPooling2D"
   ]
  },
  {
   "cell_type": "markdown",
   "metadata": {
    "dc": {
     "key": "10"
    },
    "deletable": false,
    "editable": false,
    "run_control": {
     "frozen": true
    },
    "tags": [
     "context"
    ]
   },
   "source": [
    "## 2. Load image labels\n",
    "<p>Now that we have all of our imports ready, it is time to look at the labels for our data. We will load our <code>labels.csv</code> file into a DataFrame called <code>labels</code>, where the index is the image name (e.g. an index of 1036 refers to an image named 1036.jpg) and the <code>genus</code> column tells us the bee type. <code>genus</code> takes the value of either <code>0.0</code> (Apis or honey bee) or <code>1.0</code> (Bombus or bumble bee).</p>"
   ]
  },
  {
   "cell_type": "code",
   "execution_count": 4,
   "metadata": {
    "dc": {
     "key": "10"
    },
    "tags": [
     "sample_code"
    ]
   },
   "outputs": [
    {
     "name": "stdout",
     "output_type": "stream",
     "text": [
      "[1. 1. 1. ... 0. 0. 0.]\n"
     ]
    }
   ],
   "source": [
    "# load labels.csv from datasets folder using pandas\n",
    "labels = pd.read_csv('datasets/labels.csv', index_col=0)\n",
    "\n",
    "# print value counts for genus\n",
    "print(labels.genus.values)\n",
    "\n",
    "# assign the genus label values to y\n",
    "y = labels.genus.values"
   ]
  },
  {
   "cell_type": "markdown",
   "metadata": {
    "dc": {
     "key": "17"
    },
    "deletable": false,
    "editable": false,
    "run_control": {
     "frozen": true
    },
    "tags": [
     "context"
    ]
   },
   "source": [
    "## 3. Examine RGB values in an image matrix\n",
    "<p>Image data can be represented as a matrix. The width of the matrix is the width of the image, the height of the matrix is the height of the image, and the depth of the matrix is the number of channels. Most image formats have three color channels: red, green, and blue.</p>\n",
    "<p>For each pixel in an image, there is a value for every channel. The combination of the three values corresponds to the color, as per the <a href=\"https://en.wikipedia.org/wiki/RGB_color_model\">RGB color model</a>. Values for each color can range from 0 to 255, so a purely blue pixel would show up as (0, 0, 255).</p>\n",
    "<p><img src=\"https://assets.datacamp.com/production/project_555/img/rgb_example.png\" width=\"600\"></p>\n",
    "<p>Let's explore the data for a sample image. </p>"
   ]
  },
  {
   "cell_type": "code",
   "execution_count": 6,
   "metadata": {
    "dc": {
     "key": "17"
    },
    "tags": [
     "sample_code"
    ]
   },
   "outputs": [
    {
     "name": "stdout",
     "output_type": "stream",
     "text": [
      "Example image has shape:  (50, 50, 3)\n",
      "RGB values for the top left pixel are: [127 108  95]\n"
     ]
    },
    {
     "data": {
      "image/png": "[encoded data removed]",
      "text/plain": [
       "<Figure size 432x288 with 1 Axes>"
      ]
     },
     "metadata": {},
     "output_type": "display_data"
    }
   ],
   "source": [
    "# load an image and explore\n",
    "example_image = io.imread('datasets/{}.jpg'.format(labels.index[0]))\n",
    "\n",
    "# show image\n",
    "plt.imshow(example_image)\n",
    "\n",
    "# print shape\n",
    "print('Example image has shape: ', example_image.shape)\n",
    "                    \n",
    "# print color channel values for top left pixel\n",
    "print('RGB values for the top left pixel are:', example_image[0, 0, :])"
   ]
  },
  {
   "cell_type": "markdown",
   "metadata": {
    "dc": {
     "key": "24"
    },
    "deletable": false,
    "editable": false,
    "run_control": {
     "frozen": true
    },
    "tags": [
     "context"
    ]
   },
   "source": [
    "## 4. Normalize image data\n",
    "<p>Now we need to normalize our image data. Normalization is a general term that means changing the scale of our data so it is consistent.</p>\n",
    "<p>In this case, we want each feature to have a similar range so our neural network can learn effectively across all the features. As explained in the <a href=\"http://scikit-learn.org/stable/modules/generated/sklearn.preprocessing.StandardScaler.html\">sklearn docs</a>, \"If a feature has a variance that is orders of magnitude larger than others, it might dominate the objective function and make the estimator unable to learn from other features correctly as expected.\"</p>\n",
    "<p>We will scale our data so that it has a mean of 0 and standard deviation of 1. We'll use sklearn's <code>StandardScaler</code> to do the math for us, which entails taking each value, subtracting the mean, and then dividing by the standard deviation. We need to do this for each color channel (i.e. each feature) individually. </p>"
   ]
  },
  {
   "cell_type": "code",
   "execution_count": 8,
   "metadata": {
    "dc": {
     "key": "24"
    },
    "tags": [
     "sample_code"
    ]
   },
   "outputs": [
    {
     "name": "stdout",
     "output_type": "stream",
     "text": [
      "[[[[ 1.70192665  0.28009263  2.31227369]\n",
      "   [ 0.62387068 -0.0826685   0.58564743]\n",
      "   [ 1.01097922  0.89046986  0.57746941]\n",
      "   ...\n",
      "   [-1.28501795 -1.0895766  -1.28825616]\n",
      "   [-0.71956669 -0.71477573 -0.91322897]\n",
      "   [-0.6192022  -0.66680391 -0.84999125]]\n",
      "\n",
      "  [[ 2.00913363  1.12037053  1.9991696 ]\n",
      "   [ 1.23333583  0.80760769  0.90051163]\n",
      "   [ 0.90411038  0.76915244  0.31734805]\n",
      "   ...\n",
      "   [-1.19769087 -1.28140346 -1.20403439]\n",
      "   [-0.74032741 -0.73808871 -0.93054465]\n",
      "   [-0.58181076 -0.6237843  -0.81704586]]\n",
      "\n",
      "  [[ 1.7787284   1.40046316  1.45123745]\n",
      "   [ 1.12252398  0.80760769  0.64862027]\n",
      "   [ 0.58350386  0.22322405 -0.07283398]\n",
      "   ...\n",
      "   [-0.58640133 -0.70592287 -0.78292555]\n",
      "   [-0.44967728 -0.45833304 -0.70544081]\n",
      "   [-0.33876642 -0.30113725 -0.58642807]]\n",
      "\n",
      "  ...\n",
      "\n",
      "  [[-1.83095358 -1.49382737 -1.67980343]\n",
      "   [-2.42345504 -2.43554129 -2.12218476]\n",
      "   [-2.14165153 -2.14246564 -1.9587138 ]\n",
      "   ...\n",
      "   [-0.52090602 -0.49011764 -0.68185943]\n",
      "   [-0.1175057   0.03123938 -0.16865472]\n",
      "   [-0.65659364 -0.51623529 -0.48759188]]\n",
      "\n",
      "  [[-1.98455707 -1.21373474 -1.13187128]\n",
      "   [-2.5896728  -2.5627236  -2.12218476]\n",
      "   [-1.7676106  -1.65719596 -1.30841041]\n",
      "   ...\n",
      "   [ 0.15587883  0.30116818  0.04244777]\n",
      "   [-1.32162768 -1.13440924 -0.93054465]\n",
      "   [-1.68485817 -1.61323527 -1.4594811 ]]\n",
      "\n",
      "  [[-1.75415184 -1.12037053 -1.44497537]\n",
      "   [-2.25723727 -2.24476782 -1.74434771]\n",
      "   [-2.0347827  -1.8998308  -1.37344075]\n",
      "   ...\n",
      "   [-1.48150388 -1.44925197 -1.25456745]\n",
      "   [-2.04825302 -1.97367625 -1.72706593]\n",
      "   [-1.57268385 -1.50568625 -1.5253719 ]]]\n",
      "\n",
      "\n",
      " [[[-1.18303763 -1.10962202 -0.78905047]\n",
      "   [-1.15982056 -1.11950777 -0.80000777]\n",
      "   [-1.5648401  -1.15608409 -0.96981499]\n",
      "   ...\n",
      "   [ 1.28424674  1.49765956  1.46663547]\n",
      "   [ 1.22757713  1.43935919  1.43750192]\n",
      "   [ 1.26905013  1.67764787  1.64311616]]\n",
      "\n",
      "  [[-1.14650157 -1.06773895 -0.77837319]\n",
      "   [-1.12033506 -1.07703782 -0.78887801]\n",
      "   [-1.49568507 -1.14154946 -0.96981499]\n",
      "   ...\n",
      "   [ 1.28424674  1.51351116  1.46663547]\n",
      "   [ 1.22757713  1.4555536   1.42281255]\n",
      "   [ 1.25665706  1.56269549  1.52304921]]\n",
      "\n",
      "  [[-1.14650157 -1.06773895 -0.81040501]\n",
      "   [-1.12033506 -1.04872452 -0.80000777]\n",
      "   [-1.41269903 -1.11248021 -0.95797353]\n",
      "   ...\n",
      "   [ 1.2717419   1.54521437  1.4946675 ]\n",
      "   [ 1.26534874  1.4555536   1.40812318]\n",
      "   [ 1.25665706  1.49700841  1.46301574]]\n",
      "\n",
      "  ...\n",
      "\n",
      "  [[ 0.18097528 -0.62098625 -0.09502773]\n",
      "   [-0.39643435 -0.53908518 -0.43272541]\n",
      "   [-0.63816265 -0.72004533 -0.75666884]\n",
      "   ...\n",
      "   [ 0.12129692 -0.21431369  0.33133852]\n",
      "   [ 0.09442901 -0.13149861  0.33579904]\n",
      "   [ 0.11649484 -0.09590313  0.35239649]]\n",
      "\n",
      "  [[-0.61063935 -0.9700118  -0.77837319]\n",
      "   [-1.06768774 -1.26107425 -0.91130546]\n",
      "   [-0.76264171 -1.15608409 -0.82771755]\n",
      "   ...\n",
      "   [-0.25384819 -0.62645539 -0.13118987]\n",
      "   [-0.22033436 -0.60113651 -0.04612463]\n",
      "   [-0.20572492 -0.58855618 -0.06783782]]\n",
      "\n",
      "  [[ 1.41102265  0.91472615  0.98337683]\n",
      "   [ 0.98555791  0.46603687  0.62460262]\n",
      "   [-0.77647272 -1.09794559 -0.88692482]\n",
      "   ...\n",
      "   [-0.02876112 -0.48379096 -0.08914184]\n",
      "   [-0.22033436 -0.82785826 -0.58963138]\n",
      "   [-0.18093879 -0.68708679 -0.4130303 ]]]\n",
      "\n",
      "\n",
      " [[[ 2.36165046  2.37558887  2.31664152]\n",
      "   [ 1.77672872  1.66343751  1.94259341]\n",
      "   [ 0.46017397  0.44124026  0.20961563]\n",
      "   ...\n",
      "   [-0.73892454 -0.97600167 -0.48642356]\n",
      "   [-0.63857436 -0.69337567 -0.50025202]\n",
      "   [-0.48797016 -0.48547065 -0.36669126]]\n",
      "\n",
      "  [[ 2.20941686  2.29496934  1.4214941 ]\n",
      "   [ 2.67096952  2.63666945  2.42077025]\n",
      "   [ 2.62135759  2.56107782  2.70813009]\n",
      "   ...\n",
      "   [-0.64842552 -0.8095621  -0.42973084]\n",
      "   [-0.51212399 -0.53361169 -0.28616414]\n",
      "   [-0.36474537 -0.31921358 -0.1714539 ]]\n",
      "\n",
      "  [[ 2.08255554  2.1068571   1.06343513]\n",
      "   [ 2.49212136  2.42624092  1.91270736]\n",
      "   [ 2.4632222   2.35171115  2.25385473]\n",
      "   ...\n",
      "   [-0.46742747 -0.54325878 -0.33524297]\n",
      "   [-0.36459856 -0.30994212 -0.16127954]\n",
      "   [-0.22098312 -0.08645368 -0.04721194]]\n",
      "\n",
      "  ...\n",
      "\n",
      "  [[-0.78451044 -0.8491924  -0.48815373]\n",
      "   [-0.75269526 -0.78279412 -0.50806289]\n",
      "   [-0.69948553 -0.6841056  -0.50424565]\n",
      "   ...\n",
      "   [-0.82942357 -1.00928959 -1.03445322]\n",
      "   [-0.78609979 -0.98095083 -0.94626845]\n",
      "   [-0.75495719 -0.98424186 -0.91690564]]\n",
      "\n",
      "  [[-0.60690459 -0.66108016 -0.27928599]\n",
      "   [-0.5738471  -0.59866916 -0.29886053]\n",
      "   [-0.59406194 -0.57942227 -0.37445269]\n",
      "   ...\n",
      "   [-0.82942357 -1.0425775  -0.9777605 ]\n",
      "   [-0.78609979 -0.98095083 -0.94626845]\n",
      "   [-0.75495719 -0.98424186 -0.91690564]]\n",
      "\n",
      "  [[-0.32780967 -0.36547521  0.04893473]\n",
      "   [-0.39499894 -0.4145442  -0.08965816]\n",
      "   [-0.43592655 -0.42239726 -0.17976325]\n",
      "   ...\n",
      "   [-0.82942357 -1.0425775  -0.9777605 ]\n",
      "   [-0.74394966 -0.91704524 -0.91058713]\n",
      "   [-0.71388227 -0.91773903 -0.88140794]]]\n",
      "\n",
      "\n",
      " ...\n",
      "\n",
      "\n",
      " [[[ 1.24653236  1.49925409  0.55136763]\n",
      "   [ 0.2609202   0.74840542 -0.71900685]\n",
      "   [ 1.80585651  1.96003234  0.73756915]\n",
      "   ...\n",
      "   [-0.99811756 -0.95257095 -0.76291632]\n",
      "   [-0.43620013 -0.2942219  -0.07362488]\n",
      "   [-0.21860835 -0.06610108  0.24850948]]\n",
      "\n",
      "  [[ 1.03637517  1.49925409  0.67110001]\n",
      "   [ 1.2118822   1.61806644  0.34308922]\n",
      "   [ 1.14769985  1.3851695  -0.31825581]\n",
      "   ...\n",
      "   [-0.47068664 -0.14062844 -0.34941154]\n",
      "   [-0.47084669  0.0723601  -0.07362488]\n",
      "   [ 0.27624411  0.81918121  0.20943566]]\n",
      "\n",
      "  [[ 0.37588114  0.91945876  0.52143453]\n",
      "   [ 1.62792808  1.96593085  1.01896853]\n",
      "   [ 0.9283143   1.21021125 -0.58221205]\n",
      "   ...\n",
      "   [ 0.34774067  0.80122487  0.45692279]\n",
      "   [ 0.98430863  1.28367455  0.24555813]\n",
      "   [ 0.27624411  0.58310593 -0.66972524]]\n",
      "\n",
      "  ...\n",
      "\n",
      "  [[-1.30537637 -1.83456906 -1.33441741]\n",
      "   [-1.34382818 -1.93512    -1.45925563]\n",
      "   [-1.39090441 -1.96403139 -1.638037  ]\n",
      "   ...\n",
      "   [ 0.32955339  0.73626947  0.12611896]\n",
      "   [ 0.18743786  0.56644889  0.47962567]\n",
      "   [-0.27682629  0.03718186 -0.06408106]]\n",
      "\n",
      "  [[-1.39544374 -1.66546208 -1.33441741]\n",
      "   [-1.34382818 -1.78603525 -1.39488617]\n",
      "   [-1.23420044 -1.86405524 -1.41178879]\n",
      "   ...\n",
      "   [ 0.38411521  0.59011982  0.16746944]\n",
      "   [-0.0724113   0.4389421   0.13916379]\n",
      "   [-0.27682629  0.06669127  0.03360348]]\n",
      "\n",
      "  [[-0.91508445 -0.9890342  -0.97522026]\n",
      "   [-1.01693499 -1.16484881 -1.10522361]\n",
      "   [-1.26554123 -1.43915662 -1.41178879]\n",
      "   ...\n",
      "   [ 0.72967341  0.67131407  0.10544372]\n",
      "   [ 0.29137753  0.56644889  0.11788492]\n",
      "   [ 0.02881788  0.36178536  0.17036185]]]\n",
      "\n",
      "\n",
      " [[[ 1.43754375  1.51665178  1.0706829 ]\n",
      "   [ 1.48600885  1.56556015  1.19855144]\n",
      "   [ 1.22223599  1.4183985   0.60827078]\n",
      "   ...\n",
      "   [-1.015132   -0.91059972 -0.58081998]\n",
      "   [-1.15250152 -1.08778332 -0.70617137]\n",
      "   [-0.46317883 -0.52540746  0.6367622 ]]\n",
      "\n",
      "  [[ 1.41685967  1.48202502  1.10125637]\n",
      "   [ 1.44559523  1.51399361  1.19855144]\n",
      "   [ 1.20397186  1.38551191  0.62883437]\n",
      "   ...\n",
      "   [-1.06340267 -0.95597091 -0.62721135]\n",
      "   [-1.12401656 -1.06366395 -0.67054214]\n",
      "   [-0.85879807 -0.82421739 -0.13475904]]\n",
      "\n",
      "  [[ 1.33412334  1.41277152  1.04010943]\n",
      "   [ 1.36476798  1.44523822  1.13811011]\n",
      "   [ 1.14917945  1.33618203  0.60827078]\n",
      "   ...\n",
      "   [-1.087538   -0.9786565  -0.65040703]\n",
      "   [-1.12401656 -1.06366395 -0.7418006 ]\n",
      "   [-1.10225606 -1.02342402 -0.70054129]]\n",
      "\n",
      "  ...\n",
      "\n",
      "  [[ 0.38265553  0.44322244  0.3674931 ]\n",
      "   [ 0.19277297  0.2935855   0.11060762]\n",
      "   [ 0.07159541  0.20159478 -0.11145462]\n",
      "   ...\n",
      "   [ 1.2777244   1.72092912  0.18463766]\n",
      "   [ 1.52508481  1.61358545  0.6121102 ]\n",
      "   [ 0.66281438  0.76943557  0.4310232 ]]\n",
      "\n",
      "  [[-0.13444654 -0.05886548 -0.30512323]\n",
      "   [-0.130536   -0.05019143 -0.31248164]\n",
      "   [-0.12931008  0.02071855 -0.31709045]\n",
      "   ...\n",
      "   [ 1.18118308  1.65287234  0.13824629]\n",
      "   [ 1.2402352   1.49298863  0.6121102 ]\n",
      "   [ 0.57151764  0.64493144  0.4310232 ]]\n",
      "\n",
      "  [[ 0.1758147   0.2527753  -0.06053547]\n",
      "   [ 0.35442746  0.43109627  0.20126961]\n",
      "   [ 0.32729332  0.49757406  0.05305404]\n",
      "   ...\n",
      "   [ 1.01223576  1.47138759  0.04546354]\n",
      "   [ 0.98387055  1.22767563  0.32707635]\n",
      "   [ 0.48022089  0.49552647  0.27671895]]]\n",
      "\n",
      "\n",
      " [[[ 0.02748287 -0.18090032 -0.05801217]\n",
      "   [-0.13864232 -0.19840113  0.04997828]\n",
      "   [-0.16810839 -0.15293372 -0.09594244]\n",
      "   ...\n",
      "   [-0.75168229 -0.73228195 -0.78331093]\n",
      "   [-0.68063708 -0.66703912 -0.77654529]\n",
      "   [-0.54515492 -0.53156208 -0.6336467 ]]\n",
      "\n",
      "  [[-0.09466322 -0.41892705 -0.51947257]\n",
      "   [-0.16839389 -0.33617969 -0.14224586]\n",
      "   [-0.16810839 -0.22473359  0.05634715]\n",
      "   ...\n",
      "   [-0.72497955 -0.70183364 -0.75139117]\n",
      "   [-0.66706235 -0.66703912 -0.72486748]\n",
      "   [-0.53070225 -0.53156208 -0.57970402]]\n",
      "\n",
      "  [[ 0.08855591 -0.45293087 -0.51947257]\n",
      "   [-0.19814546 -0.5084029  -0.33447001]\n",
      "   [-0.38363196 -0.51193306 -0.17208723]\n",
      "   ...\n",
      "   [-0.73833092 -0.71705779 -0.76735105]\n",
      "   [-0.66706235 -0.66703912 -0.67318966]\n",
      "   [-0.57406028 -0.58059917 -0.57970402]]\n",
      "\n",
      "  ...\n",
      "\n",
      "  [[-1.0412954  -0.96298816 -0.71724132]\n",
      "   [-0.94193473 -0.74951538 -0.65484358]\n",
      "   [-0.87625728 -0.547833   -0.70510076]\n",
      "   ...\n",
      "   [-0.83179053 -0.65616117 -0.73543129]\n",
      "   [-0.74851074 -0.60490227 -0.65596373]\n",
      "   [-0.64632365 -0.49887068 -0.54374223]]\n",
      "\n",
      "  [[-0.98022236 -1.03099579 -0.78316424]\n",
      "   [-0.9716863  -0.95618323 -0.46261943]\n",
      "   [-0.93783544 -0.83503247 -0.55281118]\n",
      "   ...\n",
      "   [-0.75168229 -0.62571285 -0.70351153]\n",
      "   [-0.73493601 -0.57383384 -0.65596373]\n",
      "   [-0.60296563 -0.43348789 -0.50778044]]\n",
      "\n",
      "  [[-1.01075888 -1.09900343 -0.84908715]\n",
      "   [-1.09069259 -1.12840643 -0.65484358]\n",
      "   [-0.9994136  -1.01453214 -0.70510076]\n",
      "   ...\n",
      "   [-0.68492543 -0.54959207 -0.639672  ]\n",
      "   [-0.65348762 -0.48062856 -0.5526081 ]\n",
      "   [-0.53070225 -0.35175941 -0.41787597]]]]\n"
     ]
    }
   ],
   "source": [
    "# initialize standard scaler\n",
    "ss = StandardScaler()\n",
    "\n",
    "image_list = []\n",
    "for i in labels.index:\n",
    "    # load image\n",
    "    img = io.imread('datasets/{}.jpg'.format(i)).astype(np.float64)\n",
    "    \n",
    "    # for each channel, apply standard scaler's fit_transform method\n",
    "    for channel in range(img.shape[2]):\n",
    "        img[:, :, channel] = ss.fit_transform(img[:, :, channel])\n",
    "        \n",
    "    # append to list of all images\n",
    "    image_list.append(img)\n",
    "    \n",
    "# convert image list to single array\n",
    "X = np.array(image_list)\n",
    "\n",
    "# print shape of X\n",
    "print(X)"
   ]
  },
  {
   "cell_type": "markdown",
   "metadata": {
    "dc": {
     "key": "31"
    },
    "deletable": false,
    "editable": false,
    "run_control": {
     "frozen": true
    },
    "tags": [
     "context"
    ]
   },
   "source": [
    "## 5. Split into train, test, and evaluation sets\n",
    "<p>Now that we have our big image data matrix, <code>X</code>, as well as our labels, <code>y</code>, we can split our data into train, test, and evaluation sets. To do this, we'll first allocate 20% of the data into our evaluation, or holdout, set. This is data that the model never sees during training and will be used to score our trained model.</p>\n",
    "<p>We will then split the remaining data, 60/40, into train and test sets just like in supervised machine learning models. We will pass both the train and test sets into the neural network. </p>"
   ]
  },
  {
   "cell_type": "code",
   "execution_count": 10,
   "metadata": {
    "dc": {
     "key": "31"
    },
    "tags": [
     "sample_code"
    ]
   },
   "outputs": [
    {
     "name": "stdout",
     "output_type": "stream",
     "text": [
      "x_train shape: (793, 50, 50, 3)\n",
      "[[[[-3.61052659e+00 -2.38046649e+00 -1.16417413e+00]\n",
      "   [ 1.43074572e+00  1.48056708e+00  1.75368164e+00]\n",
      "   [-2.57825160e+00 -2.14342264e+00 -1.02213982e+00]\n",
      "   ...\n",
      "   [-3.58927190e-01 -2.56960132e-01  1.36399468e-01]\n",
      "   [-2.09993980e-01 -3.56087810e-01  1.25976326e-01]\n",
      "   [-3.87381410e-01 -4.93271564e-01 -1.53780048e-01]]\n",
      "\n",
      "  [[ 4.87170675e-01  1.11038920e+00  3.68786539e-01]\n",
      "   [ 1.01594433e+00  1.23415791e+00  8.76442074e-01]\n",
      "   [-2.65840450e+00 -2.07841134e+00 -1.14117784e+00]\n",
      "   ...\n",
      "   [-3.58927190e-01 -2.56960132e-01  1.36399468e-01]\n",
      "   [-2.09993980e-01 -3.56087810e-01  1.25976326e-01]\n",
      "   [-3.87381410e-01 -4.93271564e-01 -1.53780048e-01]]\n",
      "\n",
      "  [[ 1.49533429e+00  1.48175683e+00  7.62976426e-01]\n",
      "   [-1.50477181e+00 -1.22993375e+00 -7.18538953e-01]\n",
      "   [-2.41794580e+00 -2.11091699e+00 -9.82460475e-01]\n",
      "   ...\n",
      "   [-3.58927190e-01 -2.56960132e-01  1.36399468e-01]\n",
      "   [-2.09993980e-01 -3.56087810e-01  1.25976326e-01]\n",
      "   [-3.87381410e-01 -4.93271564e-01 -1.53780048e-01]]\n",
      "\n",
      "  ...\n",
      "\n",
      "  [[ 1.61956606e-01 -1.52260727e-01  3.24987663e-01]\n",
      "   [ 9.20220932e-01  1.51576839e+00  1.35493638e+00]\n",
      "   [ 1.50954627e+00  2.14732332e+00  2.74739755e+00]\n",
      "   ...\n",
      "   [-2.54587891e-01 -3.50741202e-01 -3.08381405e-01]\n",
      "   [ 3.19657503e+00  2.90302096e+00  5.13595791e-01]\n",
      "   [ 2.82457500e+00  2.72371690e+00  2.86342342e+00]]\n",
      "\n",
      "  [[ 8.12384744e-01  1.14752597e+00  2.20833935e+00]\n",
      "   [ 9.06181500e-02  4.59729102e-01  8.36567549e-01]\n",
      "   [ 8.14887811e-01  9.77119876e-01  6.44392492e-01]\n",
      "   ...\n",
      "   [-3.93706956e-01 -3.97631737e-01 -1.60121114e-01]\n",
      "   [ 3.00991372e+00  3.26514416e+00  2.16097852e+00]\n",
      "   [ 2.20813892e+00  2.33767828e+00  1.98746112e+00]]\n",
      "\n",
      "  [[-4.88471532e-01 -1.00640627e+00 -3.75794359e-01]\n",
      "   [-1.85575761e+00 -2.18036911e+00 -1.79515115e+00]\n",
      "   [-1.05534651e+00 -1.42829832e+00 -1.41893322e+00]\n",
      "   ...\n",
      "   [ 1.27572183e+00  1.71244234e+00  2.58269427e+00]\n",
      "   [ 2.49659510e+00  3.02372869e+00  3.90526611e+00]\n",
      "   [ 2.27302693e+00  2.33767828e+00  2.47410684e+00]]]\n",
      "\n",
      "\n",
      " [[[-4.85741253e-01 -7.75514868e-02 -5.50630475e-02]\n",
      "   [-4.56065816e-01 -6.52222076e-02  6.56795876e-02]\n",
      "   [-5.53842056e-01 -3.47532140e-01 -2.42599781e-01]\n",
      "   ...\n",
      "   [ 5.60074400e-01  4.68014776e-01  5.16921676e-01]\n",
      "   [ 4.17809063e-01  5.32658857e-01  4.11776997e-01]\n",
      "   [ 5.53442093e-01  6.47522038e-01  4.36653706e-01]]\n",
      "\n",
      "  [[-4.67480304e-01 -2.94478723e-01 -1.11634672e-01]\n",
      "   [-6.45917451e-01 -6.08740605e-01 -2.94498796e-01]\n",
      "   [-7.89596696e-01 -7.44578268e-01 -5.72917183e-01]\n",
      "   ...\n",
      "   [ 5.03329273e-01  6.87533902e-01  4.34081664e-01]\n",
      "   [ 4.45188425e-01  7.19338362e-01  5.21001664e-01]\n",
      "   [ 5.53442093e-01  8.43740838e-01  5.54033735e-01]]\n",
      "\n",
      "  [[-5.95306950e-01 -4.57174150e-01 -4.51064416e-01]\n",
      "   [-9.62336842e-01 -1.23378676e+00 -8.24172889e-01]\n",
      "   [-1.11602620e+00 -1.49195921e+00 -1.06839329e+00]\n",
      "   ...\n",
      "   [ 5.31701837e-01  8.19245378e-01  4.06468326e-01]\n",
      "   [ 4.99947148e-01  8.43791366e-01  4.93695497e-01]\n",
      "   [ 6.44071257e-01  9.41850238e-01  5.24688728e-01]]\n",
      "\n",
      "  ...\n",
      "\n",
      "  [[ 6.46437608e-01  1.08843241e+00  8.87797354e-01]\n",
      "   [ 1.82215380e+00  1.42945338e+00  1.65470187e+00]\n",
      "   [ 2.03945899e+00  1.47420892e+00  1.79435753e+00]\n",
      "   ...\n",
      "   [ 1.75172206e+00  1.87293718e+00  2.36701528e+00]\n",
      "   [ 1.12967247e+00  1.34160338e+00  1.66786067e+00]\n",
      "   [ 2.81554602e-01  5.10168879e-01  7.00758770e-01]]\n",
      "\n",
      "  [[-4.74784684e-02  5.18998412e-01 -3.62058394e-02]\n",
      "   [ 5.35381610e-01  9.94638666e-01  3.83484044e-01]\n",
      "   [ 8.78820760e-01  1.05380713e+00  6.93299526e-01]\n",
      "   ...\n",
      "   [ 1.78009462e+00  1.87293718e+00  2.44985529e+00]\n",
      "   [ 2.08795014e+00  1.71496239e+00  2.43243335e+00]\n",
      "   [ 1.82225038e+00  1.53050664e+00  2.43211419e+00]]\n",
      "\n",
      "  [[ 2.08174823e-01  8.71505170e-01  3.78652737e-01]\n",
      "   [ 7.25233245e-01  1.21204603e+00  7.22475464e-01]\n",
      "   [ 8.42550816e-01  1.03045148e+00  6.38246625e-01]\n",
      "   ...\n",
      "   [ 2.23405564e+00  1.96074483e+00  2.67076199e+00]\n",
      "   [ 2.49864057e+00  1.67347806e+00  2.54165801e+00]\n",
      "   [ 1.91287955e+00  1.51088476e+00  2.43211419e+00]]]\n",
      "\n",
      "\n",
      " [[[ 3.98836102e-01 -1.57162167e-01  1.28776595e-01]\n",
      "   [ 1.63120841e+00  1.12062595e+00  4.42130426e-01]\n",
      "   [ 7.65202553e-01 -2.76317611e-01  8.86365427e-02]\n",
      "   ...\n",
      "   [ 5.98775060e-01  3.57234826e-01  8.02291424e-01]\n",
      "   [ 7.43629766e-01  4.82164807e-01  1.41505247e+00]\n",
      "   [ 6.81002382e-01  5.32210069e-01  6.72040777e-01]]\n",
      "\n",
      "  [[ 1.29258647e+00  1.41445950e+00  3.86798917e-01]\n",
      "   [-9.33847005e-01 -1.48259805e+00 -6.94186090e-01]\n",
      "   [-5.99425514e-01 -1.32842876e+00 -5.30658079e-01]\n",
      "   ...\n",
      "   [ 7.17863179e-01  4.47105222e-01  1.19007997e+00]\n",
      "   [ 4.01036107e-01  1.99646366e-01  8.05772614e-01]\n",
      "   [ 4.79879410e-01  2.79517195e-01  5.87115657e-01]]\n",
      "\n",
      "  [[ 8.64331086e-01  1.07595638e+00  3.49502964e-02]\n",
      "   [-7.46160023e-01 -8.62782810e-01 -5.76127231e-01]\n",
      "   [-8.77405305e-01 -1.13461881e+00 -6.27422863e-01]\n",
      "   ...\n",
      "   [ 5.74957437e-01  2.89832028e-01  1.23316759e+00]\n",
      "   [ 4.61493812e-01  2.56150054e-01  9.58092578e-01]\n",
      "   [ 2.98868736e-01  6.57001473e-02  6.15424030e-01]]\n",
      "\n",
      "  ...\n",
      "\n",
      "  [[ 8.08471688e-01  5.44022886e-01  7.50375826e-01]\n",
      "   [-3.49931951e-01 -4.66101058e-01 -5.61369874e-01]\n",
      "   [ 7.07584924e-03  3.60486503e-01 -5.11305122e-01]\n",
      "   ...\n",
      "   [ 5.09697148e-02  3.57234826e-01  4.14502873e-01]\n",
      "   [-2.01525682e-03 -7.53382512e-03 -1.08147175e-01]\n",
      "   [ 3.59205627e-01  1.43451801e-01  3.04031927e-01]]\n",
      "\n",
      "  [[-6.81112261e-01 -9.30883606e-01 -6.92203521e-01]\n",
      "   [ 4.62961222e-02 -1.19004526e-01 -4.58068372e-01]\n",
      "   [ 9.92640564e-01  1.02497775e+00  3.05776719e-02]\n",
      "   ...\n",
      "   [ 5.74957437e-01  5.59443218e-01  1.62095614e+00]\n",
      "   [ 4.41341243e-01  2.37315491e-01  8.81932596e-01]\n",
      "   [ 5.40216302e-01  3.18393022e-01  8.13582642e-01]]\n",
      "\n",
      "  [[-6.62492461e-01 -6.40738066e-01 -8.44671256e-01]\n",
      "   [-2.03953187e-01 -1.43797135e-01 -3.69524228e-01]\n",
      "   [ 8.28885196e-02  3.60486503e-01 -4.91952165e-01]\n",
      "   ...\n",
      "   [ 4.32051694e-01  1.77494033e-01  9.74641891e-01]\n",
      "   [ 6.02561789e-01  3.50322868e-01  1.64353242e+00]\n",
      "   [ 5.60328599e-01  3.37830935e-01  9.55124507e-01]]]\n",
      "\n",
      "\n",
      " ...\n",
      "\n",
      "\n",
      " [[[ 1.17757832e-01  3.49450163e-01  3.05278693e-01]\n",
      "   [-1.12681368e+00 -7.50941372e-01 -1.11600200e+00]\n",
      "   [-1.30066252e+00 -7.97199444e-01 -1.32781791e+00]\n",
      "   ...\n",
      "   [-1.40661265e+00 -5.85869680e-01 -1.34613411e+00]\n",
      "   [-1.54116328e+00 -7.42609189e-01 -1.50842782e+00]\n",
      "   [-1.39315781e+00 -1.09213657e-01 -1.22428006e+00]]\n",
      "\n",
      "  [[-1.12494912e-01  1.22042248e-01  2.08575504e-02]\n",
      "   [-1.32966042e+00 -9.41213679e-01 -1.30456894e+00]\n",
      "   [-1.44555623e+00 -9.44719697e-01 -1.43619857e+00]\n",
      "   ...\n",
      "   [-1.35353293e+00 -5.31217658e-01 -1.28909453e+00]\n",
      "   [-1.33233357e+00 -5.34886339e-01 -1.29091841e+00]\n",
      "   [-1.26753493e+00 -5.20065033e-03 -1.09417590e+00]]\n",
      "\n",
      "  [[-4.41427403e-01 -1.05365667e-01 -3.77332049e-01]\n",
      "   [-1.53250717e+00 -1.16319804e+00 -1.55599153e+00]\n",
      "   [-1.44555623e+00 -9.44719697e-01 -1.46716448e+00]\n",
      "   ...\n",
      "   [-1.24737348e+00 -4.21913613e-01 -1.17501537e+00]\n",
      "   [-1.28012614e+00 -4.82955626e-01 -1.23654105e+00]\n",
      "   [-1.20472348e+00  4.68058530e-02 -1.02912383e+00]]\n",
      "\n",
      "  ...\n",
      "\n",
      "  [[ 1.00587556e+00  2.35746205e-01  7.98275339e-01]\n",
      "   [ 1.02843300e+00  5.80964778e-01  8.95378683e-01]\n",
      "   [ 8.96892054e-01  5.30482828e-01  8.86244139e-01]\n",
      "   ...\n",
      "   [ 1.19429376e+00  2.03742739e+00  1.33472619e+00]\n",
      "   [ 1.12141556e+00  1.80199572e+00  1.15606257e+00]\n",
      "   [ 1.68460291e+00  1.81502697e+00  1.76811540e+00]]\n",
      "\n",
      "  [[ 7.09836316e-01  2.35746205e-01  6.08661244e-01]\n",
      "   [ 9.52365474e-01  6.12676829e-01  8.01095214e-01]\n",
      "   [ 8.96892054e-01  4.41970676e-01  8.39795285e-01]\n",
      "   ...\n",
      "   [ 1.19429376e+00  1.76416728e+00  1.33472619e+00]\n",
      "   [ 1.12141556e+00  1.64620359e+00  1.21043992e+00]\n",
      "   [ 1.30773425e+00  1.50298795e+00  1.37780295e+00]]\n",
      "\n",
      "  [[ 6.11156568e-01 -1.05365667e-01  4.38008559e-01]\n",
      "   [ 9.77721318e-01  3.58980419e-01  7.53953479e-01]\n",
      "   [ 1.04178576e+00  2.94450424e-01  8.70761188e-01]\n",
      "   ...\n",
      "   [ 5.57337088e-01  3.97866723e-01  8.78409547e-01]\n",
      "   [ 7.55963559e-01  2.96005061e-01  7.75421081e-01]\n",
      "   [ 8.68054148e-01  3.58844873e-01  9.87490501e-01]]]\n",
      "\n",
      "\n",
      " [[[ 1.16977118e-01  2.54180112e-01 -2.44912683e-01]\n",
      "   [ 2.98084633e-01  4.55703094e-01 -1.03042974e-01]\n",
      "   [ 6.37596225e-01  7.45183150e-01  2.38774701e-01]\n",
      "   ...\n",
      "   [-5.09928551e-02  5.11609851e-01 -6.21379904e-01]\n",
      "   [-5.46687531e-02  2.03855385e-01 -6.58914023e-01]\n",
      "   [ 8.64034226e-01  1.40739326e+00 -5.20360360e-01]]\n",
      "\n",
      "  [[-1.02904683e-01 -3.96697284e-02 -5.11951433e-01]\n",
      "   [ 1.85514907e-01  2.17253800e-01 -6.66320289e-02]\n",
      "   [ 7.44217667e-01  7.45183150e-01  6.24413519e-01]\n",
      "   ...\n",
      "   [-1.63477094e-01  2.47893433e-01 -6.63911040e-01]\n",
      "   [-5.46687531e-02  2.03855385e-01 -7.12615248e-01]\n",
      "   [ 8.64034226e-01  1.40739326e+00 -5.61140953e-01]]\n",
      "\n",
      "  [[-2.12845584e-01 -2.35569622e-01 -4.92877236e-01]\n",
      "   [ 3.65626468e-01  2.70242532e-01  3.70299308e-01]\n",
      "   [ 1.04275771e+00  8.98618253e-01  1.17073518e+00]\n",
      "   ...\n",
      "   [-3.50950826e-01 -1.58229851e-02 -7.70238881e-01]\n",
      "   [-5.46687531e-02  2.99114911e-01 -7.66316472e-01]\n",
      "   [ 7.72505177e-01  1.40739326e+00 -6.42702138e-01]]\n",
      "\n",
      "  ...\n",
      "\n",
      "  [[ 2.92882560e-01  1.07255192e-01  8.04168123e-01]\n",
      "   [ 4.78196193e-01  4.02714362e-01  9.16463479e-01]\n",
      "   [ 3.60380475e-01  3.61595393e-01  5.44072099e-01]\n",
      "   ...\n",
      "   [-5.75919305e-01 -8.17520896e-02 -8.97406979e-02]\n",
      "   [-5.10241695e-01 -2.72442243e-01 -9.50511672e-02]\n",
      "   [-6.91959614e-01 -3.55237991e-01  9.78734220e-03]]\n",
      "\n",
      "  [[-5.64656466e-01 -3.58007055e-01 -2.83061075e-01]\n",
      "   [-3.09791884e-01 -1.00678590e-01 -1.03042974e-01]\n",
      "   [ 1.91918596e-02  1.82587772e-01 -5.04544120e-02]\n",
      "   ...\n",
      "   [-6.13414051e-01 -2.79539403e-01 -1.74802971e-01]\n",
      "   [-8.13956990e-01 -8.43999397e-01 -3.09856065e-01]\n",
      "   [-1.33266296e+00 -1.16876011e+00 -4.38799175e-01]]\n",
      "\n",
      "  [[-1.26827823e+00 -7.49806842e-01 -1.04602893e+00]\n",
      "   [-9.85210236e-01 -5.24588445e-01 -8.67672813e-01]\n",
      "   [-5.13915352e-01 -1.75427468e-01 -6.44980923e-01]\n",
      "   ...\n",
      "   [-2.38466587e-01  5.01061194e-02  1.01649416e-01]\n",
      "   [-9.65814638e-01 -9.39258923e-01 -6.32063411e-01]\n",
      "   [-1.60725011e+00 -1.30434713e+00 -8.87385693e-01]]]\n",
      "\n",
      "\n",
      " [[[-8.56707305e-02 -2.93473782e-01 -1.85016714e-01]\n",
      "   [ 8.77128842e-01  1.04190870e+00  9.49220850e-01]\n",
      "   [-7.52507540e-01 -6.91146917e-01 -7.93618955e-01]\n",
      "   ...\n",
      "   [-1.25804810e+00 -1.11565779e+00 -8.69601463e-01]\n",
      "   [-1.27783838e+00 -1.00433930e+00 -6.85881350e-01]\n",
      "   [-1.24175289e+00 -1.11355576e+00 -9.00216389e-01]]\n",
      "\n",
      "  [[ 8.74028710e-01  1.12457180e+00  1.17453103e+00]\n",
      "   [-2.56438013e-01 -3.90715763e-01 -4.52582093e-01]\n",
      "   [ 7.28806515e-01  4.26610900e-01  1.41460781e-01]\n",
      "   ...\n",
      "   [-1.38299612e+00 -1.24314072e+00 -9.97269463e-01]\n",
      "   [-1.12776928e+00 -9.65456637e-01 -6.10551163e-01]\n",
      "   [-1.06240308e+00 -1.02478378e+00 -7.73476350e-01]]\n",
      "\n",
      "  [[ 8.97436013e-01  1.24788012e+00  1.32230796e+00]\n",
      "   [ 1.15422296e+00  1.49774376e+00  1.61674606e+00]\n",
      "   [-7.11030747e-02 -5.98000432e-01 -6.73736938e-01]\n",
      "   ...\n",
      "   [-1.34729669e+00 -1.20671702e+00 -9.60792891e-01]\n",
      "   [-1.18404519e+00 -1.02378064e+00 -6.67048803e-01]\n",
      "   [-1.06240308e+00 -1.02478378e+00 -7.73476350e-01]]\n",
      "\n",
      "  ...\n",
      "\n",
      "  [[ 5.22919159e-01  6.92992713e-01  9.38087942e-01]\n",
      "   [ 1.71798354e-01  2.60477175e-01  3.81824421e-01]\n",
      "   [-1.43391201e+00 -1.49841645e+00 -8.89524569e-01]\n",
      "   ...\n",
      "   [-1.32944697e+00 -7.51420833e-01 -4.68359177e-01]\n",
      "   [-1.20280383e+00 -5.76629961e-01 -2.90397870e-01]\n",
      "   [-1.09501214e+00 -6.69695844e-01 -3.93256234e-01]]\n",
      "\n",
      "  [[ 2.18624214e-01  3.23067777e-01  4.94757157e-01]\n",
      "   [ 3.48130976e-01  6.51192939e-01  7.15587026e-01]\n",
      "   [ 2.25159736e-01  4.88708557e-01  5.73036043e-01]\n",
      "   ...\n",
      "   [-1.86493850e+00 -1.35241181e+00 -1.05198432e+00]\n",
      "   [-1.76556295e+00 -1.14042864e+00 -7.61211536e-01]\n",
      "   [-1.20914383e+00 -8.64994208e-01 -6.46736311e-01]]\n",
      "\n",
      "  [[ 2.88846124e-01  3.84721933e-01  5.53867928e-01]\n",
      "   [ 3.48130976e-01  5.53513998e-01  6.82210766e-01]\n",
      "   [ 5.51048829e-01  7.99196840e-01  8.36776482e-01]\n",
      "   ...\n",
      "   [-1.56149330e+00 -1.06102224e+00 -7.96648320e-01]\n",
      "   [-1.39039020e+00 -7.12719297e-01 -2.90397870e-01]\n",
      "   [-3.93917409e-01 -1.19309546e-01 -1.30361183e-02]]]] train samples\n",
      "530 test samples\n",
      "331 eval samples\n"
     ]
    }
   ],
   "source": [
    "# split out evaluation sets (x_eval and y_eval)\n",
    "x_interim, x_eval, y_interim, y_eval = train_test_split(X,\n",
    "                                           y,\n",
    "                                           test_size=0.2,\n",
    "                                           random_state=52)\n",
    "\n",
    "# split remaining data into train and test sets\n",
    "x_train, x_test, y_train, y_test = train_test_split(x_interim,\n",
    "                                                   y_interim,\n",
    "                                                   test_size=0.4,\n",
    "                                                   random_state=52)\n",
    "\n",
    "# examine number of samples in train, test, and validation sets\n",
    "print('x_train shape:', x_train.shape)\n",
    "print(x_train, 'train samples')\n",
    "print(x_test.shape[0], 'test samples')\n",
    "print(x_eval.shape[0], 'eval samples')"
   ]
  },
  {
   "cell_type": "markdown",
   "metadata": {
    "dc": {
     "key": "38"
    },
    "deletable": false,
    "editable": false,
    "run_control": {
     "frozen": true
    },
    "tags": [
     "context"
    ]
   },
   "source": [
    "## 6. Model building (part i)\n",
    "<p>It's time to start building our deep learning model, a convolutional neural network (CNN). CNNs are a specific kind of artificial neural network that is very effective for image classification because they are able to take into account the spatial coherence of the image, i.e., that pixels close to each other are often related.</p>\n",
    "<p>Building a CNN begins with specifying the model type. In our case, we'll use a <a href=\"https://keras.io/getting-started/sequential-model-guide/\">Sequential</a> model, which is a linear stack of layers. We'll then add two convolutional layers. To understand convolutional layers, imagine a flashlight being shown over the top left corner of the image and slowly sliding across all the areas of the image, moving across the image in the same way your eyes move across words on a page. Convolutional layers pass a kernel (a sliding window) over the image and perform element-wise matrix multiplication between the kernel values and the pixel values in the image.</p>"
   ]
  },
  {
   "cell_type": "code",
   "execution_count": 12,
   "metadata": {
    "dc": {
     "key": "38"
    },
    "tags": [
     "sample_code"
    ]
   },
   "outputs": [],
   "source": [
    "# set model constants\n",
    "num_classes = 1\n",
    "\n",
    "# define model as Sequential\n",
    "model = Sequential()\n",
    "\n",
    "# first convolutional layer with 32 filters\n",
    "model.add(Conv2D(32, kernel_size=(3, 3), activation='relu', input_shape=(50, 50, 3)))\n",
    "\n",
    "# add a second 2D convolutional layer with 64 filters\n",
    "model.add(Conv2D(64, kernel_size=(3, 3), activation='relu', input_shape=(50, 50, 3)))"
   ]
  },
  {
   "cell_type": "markdown",
   "metadata": {
    "dc": {
     "key": "45"
    },
    "deletable": false,
    "editable": false,
    "run_control": {
     "frozen": true
    },
    "tags": [
     "context"
    ]
   },
   "source": [
    "## 7. Model building (part ii)\n",
    "<p>Let's continue building our model. So far our model has two convolutional layers. However, those are not the only layers that we need to perform our task. A complete neural network architecture will have a number of other layers that are designed to play a specific role in the overall functioning of the network. Much deep learning research is about how to structure these layers into coherent systems.</p>\n",
    "<p>We'll add the following layers:</p>\n",
    "<ul>\n",
    "<li><a href=\"https://keras.io/layers/pooling/#maxpooling2d\"><code>MaxPooling</code></a>. This passes a (2, 2) moving window over the image and downscales the image by outputting the maximum value within the window.</li>\n",
    "<li><a href=\"https://keras.io/layers/convolutional/#conv2d\"><code>Conv2D</code></a>. This adds a third convolutional layer since deeper models, i.e. models with more convolutional layers, are better able to learn features from images.</li>\n",
    "<li><a href=\"https://keras.io/layers/core/#dropout\"><code>Dropout</code></a>. This prevents the model from overfitting, i.e. perfectly remembering each image, by randomly setting 25% of the input units to 0 at each update during training.</li>\n",
    "<li><a href=\"https://keras.io/layers/core/#flatten\"><code>Flatten</code></a>. As its name suggests, this flattens the output from the convolutional part of the CNN into a one-dimensional feature vector which can be passed into the following fully connected layers.</li>\n",
    "<li><a href=\"https://keras.io/layers/core/#dense\"><code>Dense</code></a>. Fully connected layer where every input is connected to every output (see image below).</li>\n",
    "<li><a href=\"https://keras.io/layers/core/#dropout\"><code>Dropout</code></a>. Another dropout layer to safeguard against overfitting, this time with a rate of 50%.</li>\n",
    "<li><code>Dense</code>. Final layer which calculates the probability the image is either a bumble bee or honey bee.</li>\n",
    "</ul>\n",
    "<p>To take a look at how it all stacks up, we'll print the model summary. Notice that our model has a whopping <code>3,669,249</code> paramaters. These are the different weights that the model learns through training and what are used to generate predictions on a new image.</p>\n",
    "<p><img src=\"https://assets.datacamp.com/production/project_555/img/mlp_conv.png\" alt></p>"
   ]
  },
  {
   "cell_type": "code",
   "execution_count": 14,
   "metadata": {
    "dc": {
     "key": "45"
    },
    "tags": [
     "sample_code"
    ]
   },
   "outputs": [
    {
     "name": "stdout",
     "output_type": "stream",
     "text": [
      "_________________________________________________________________\n",
      "Layer (type)                 Output Shape              Param #   \n",
      "=================================================================\n",
      "conv2d_1 (Conv2D)            (None, 48, 48, 32)        896       \n",
      "_________________________________________________________________\n",
      "conv2d_2 (Conv2D)            (None, 46, 46, 64)        18496     \n",
      "_________________________________________________________________\n",
      "max_pooling2d_1 (MaxPooling2 (None, 23, 23, 64)        0         \n",
      "_________________________________________________________________\n",
      "conv2d_3 (Conv2D)            (None, 21, 21, 64)        36928     \n",
      "_________________________________________________________________\n",
      "dropout_1 (Dropout)          (None, 21, 21, 64)        0         \n",
      "_________________________________________________________________\n",
      "flatten_1 (Flatten)          (None, 28224)             0         \n",
      "_________________________________________________________________\n",
      "dense_1 (Dense)              (None, 128)               3612800   \n",
      "_________________________________________________________________\n",
      "dropout_2 (Dropout)          (None, 128)               0         \n",
      "_________________________________________________________________\n",
      "preds (Dense)                (None, 1)                 129       \n",
      "=================================================================\n",
      "Total params: 3,669,249\n",
      "Trainable params: 3,669,249\n",
      "Non-trainable params: 0\n",
      "_________________________________________________________________\n"
     ]
    }
   ],
   "source": [
    "# reduce dimensionality through max pooling\n",
    "model.add(MaxPooling2D(pool_size=(2, 2)))\n",
    "\n",
    "# third convolutional layer with 64 filters\n",
    "model.add(Conv2D(64, kernel_size=(3, 3), activation='relu'))\n",
    "# add dropout to prevent over fitting\n",
    "model.add(Dropout(0.25))\n",
    "# necessary flatten step preceeding dense layer\n",
    "model.add(Flatten())\n",
    "# fully connected layer\n",
    "model.add(Dense(128, activation='relu'))\n",
    "\n",
    "# add additional dropout to prevent overfitting\n",
    "model.add(Dropout(0.5))\n",
    "\n",
    "# prediction layers\n",
    "model.add(Dense(num_classes, activation='sigmoid', name='preds'))\n",
    "\n",
    "# show model summary\n",
    "model.summary()"
   ]
  },
  {
   "cell_type": "markdown",
   "metadata": {
    "dc": {
     "key": "52"
    },
    "deletable": false,
    "editable": false,
    "run_control": {
     "frozen": true
    },
    "tags": [
     "context"
    ]
   },
   "source": [
    "## 8. Compile and train model\n",
    "<p>Now that we've specified the model architecture, we will <a href=\"https://keras.io/models/model/#compile\">compile</a> the model for training. For this we need to specify the loss function (what we're trying to minimize), the optimizer (how we want to go about minimizing the loss), and the metric (how we'll judge the performance of the model).</p>\n",
    "<p>Then, we'll call <a href=\"https://keras.io/models/model/#fit\"><code>.fit</code></a> to begin the trainig the process. </p>\n",
    "<blockquote>\n",
    "  <p>\"Neural networks are trained iteratively using optimization techniques like gradient descent. After each cycle of training, an error metric is calculated based on the difference between prediction and target…Each neuron’s coefficients (weights) are then adjusted relative to how much they contributed to the total error. This process is repeated iteratively.\" <a href=\"https://ml-cheatsheet.readthedocs.io/en/latest/nn_concepts.html\">ML Cheatsheet</a></p>\n",
    "</blockquote>\n",
    "<p>Since training is computationally intensive, we'll do a 'mock' training to get the feel for it, using just the first 10 images in the train and test sets and training for just 5 epochs. Epochs refer to the number of iterations over the data. Typically, neural networks will train for hundreds if not thousands of epochs.</p>\n",
    "<p>Take a look at the printout for each epoch and note the loss on the train set (<code>loss</code>), the accuracy on the train set (<code>acc</code>), and loss on the test set (<code>val_loss</code>) and the accuracy on the test set (<code>val_acc</code>). We'll explore this more in a later step.</p>"
   ]
  },
  {
   "cell_type": "code",
   "execution_count": 16,
   "metadata": {
    "dc": {
     "key": "52"
    },
    "tags": [
     "sample_code"
    ]
   },
   "outputs": [
    {
     "name": "stdout",
     "output_type": "stream",
     "text": [
      "Train on 10 samples, validate on 10 samples\n",
      "Epoch 1/5\n",
      "10/10 [==============================] - 2s 173ms/step - loss: 0.6503 - acc: 0.7000 - val_loss: 0.7003 - val_acc: 0.5000\n",
      "Epoch 2/5\n",
      "10/10 [==============================] - 0s 8ms/step - loss: 0.6578 - acc: 0.6000 - val_loss: 0.7020 - val_acc: 0.5000\n",
      "Epoch 3/5\n",
      "10/10 [==============================] - 0s 8ms/step - loss: 0.6569 - acc: 0.7000 - val_loss: 0.7035 - val_acc: 0.5000\n",
      "Epoch 4/5\n",
      "10/10 [==============================] - 0s 8ms/step - loss: 0.6870 - acc: 0.6000 - val_loss: 0.7056 - val_acc: 0.5000\n",
      "Epoch 5/5\n",
      "10/10 [==============================] - 0s 9ms/step - loss: 0.6133 - acc: 0.7000 - val_loss: 0.7069 - val_acc: 0.5000\n"
     ]
    },
    {
     "data": {
      "text/plain": [
       "<keras.callbacks.History at 0x7f7348d3a6d8>"
      ]
     },
     "execution_count": 16,
     "metadata": {},
     "output_type": "execute_result"
    }
   ],
   "source": [
    "model.compile(\n",
    "    # set the loss as binary_crossentropy\n",
    "    loss=keras.losses.binary_crossentropy,\n",
    "    # set the optimizer as stochastic gradient descent\n",
    "    optimizer=keras.optimizers.SGD(lr=0.001),\n",
    "    # set the metric as accuracy\n",
    "    metrics=['accuracy']\n",
    ")\n",
    "\n",
    "# mock-train the model using the first ten observations of the train and test sets\n",
    "model.fit(\n",
    "    x_train[:10, :, :, :],\n",
    "    y_train[:10],\n",
    "    epochs=5,\n",
    "    verbose=1,\n",
    "    validation_data=(x_test[:10, :, :, :], y_test[:10])\n",
    ")"
   ]
  },
  {
   "cell_type": "markdown",
   "metadata": {
    "dc": {
     "key": "59"
    },
    "deletable": false,
    "editable": false,
    "run_control": {
     "frozen": true
    },
    "tags": [
     "context"
    ]
   },
   "source": [
    "## 9. Load pre-trained model and score\n",
    "<p>Now we'll load a pre-trained model that has the architecture we specified above and was trained for 200 epochs on the full train and test sets we created above.</p>\n",
    "<p>Let's use the <a href=\"https://keras.io/models/model/#evaluate\"><code>evaluate</code></a> method to see how well the model did at classifying bumble bees and honey bees for the test and validation sets.  Recall that accuracy is the number of correct predictions divided by the total number of predictions. Given that our classes are balanced, a model that predicts <code>1.0</code> for every image would get an accuracy around <code>0.5</code>.</p>\n",
    "<p>Note: it may take a few seconds to load the model. Recall that our model has over 3 million parameters (weights), which are what's being loaded.</p>"
   ]
  },
  {
   "cell_type": "code",
   "execution_count": 18,
   "metadata": {
    "dc": {
     "key": "59"
    },
    "tags": [
     "sample_code"
    ]
   },
   "outputs": [
    {
     "name": "stdout",
     "output_type": "stream",
     "text": [
      "Test loss: 0.6423929142502119\n",
      "Test accuracy: 0.664150944070996\n",
      "\n",
      "Eval loss: 0.654895001667864\n",
      "Eval accuracy: 0.649546827434413\n"
     ]
    }
   ],
   "source": [
    "# load pre-trained model\n",
    "pretrained_cnn = keras.models.load_model('datasets/pretrained_model.h5')\n",
    "\n",
    "# evaluate model on test set\n",
    "score = pretrained_cnn.evaluate(x_test, y_test, verbose=0)\n",
    "print('Test loss:', score[0])\n",
    "print('Test accuracy:', score[1])\n",
    "\n",
    "print(\"\")\n",
    "\n",
    "# evaluate model on holdout set\n",
    "eval_score = pretrained_cnn.evaluate(x_eval, y_eval, verbose=0)\n",
    "# print loss score\n",
    "print('Eval loss:', eval_score[0])\n",
    "# print accuracy score\n",
    "print('Eval accuracy:', eval_score[1])"
   ]
  },
  {
   "cell_type": "markdown",
   "metadata": {
    "dc": {
     "key": "66"
    },
    "deletable": false,
    "editable": false,
    "run_control": {
     "frozen": true
    },
    "tags": [
     "context"
    ]
   },
   "source": [
    "## 10. Visualize model training history\n",
    "<p>In addition to scoring the final iteration of the pre-trained model as we just did, we can also see the evolution of scores throughout training thanks to the <a href=\"https://keras.io/callbacks/#history\"><code>History</code></a> object. We'll use the <a href=\"https://docs.python.org/3/library/pickle.html\"><code>pickle</code></a> library to load the model history and then plot it.</p>\n",
    "<p>Notice how the accuracy improves over time, eventually leveling off. Correspondingly, the loss decreases over time. Plots like these can help diagnose overfitting. If we had seen an upward curve in the validation loss as times goes on (a U shape in the plot), we'd suspect that the model was starting to memorize the test set and would not generalize well to new data.</p>"
   ]
  },
  {
   "cell_type": "code",
   "execution_count": 20,
   "metadata": {
    "dc": {
     "key": "66"
    },
    "tags": [
     "sample_code"
    ]
   },
   "outputs": [
    {
     "name": "stdout",
     "output_type": "stream",
     "text": [
      "<built-in method keys of dict object at 0x7f7348d38cc8>\n"
     ]
    },
    {
     "data": {
      "image/png": "[encoded data removed]",
      "text/plain": [
       "<Figure size 432x288 with 2 Axes>"
      ]
     },
     "metadata": {},
     "output_type": "display_data"
    }
   ],
   "source": [
    "# load history\n",
    "with open('datasets/model_history.pkl', 'rb') as f:\n",
    "    pretrained_cnn_history = pickle.load(f)\n",
    "\n",
    "# print keys for pretrained_cnn_history dict\n",
    "print(pretrained_cnn_history.keys)\n",
    "\n",
    "fig = plt.figure(1)\n",
    "plt.subplot(211)\n",
    "# plot the validation accuracy\n",
    "plt.plot(pretrained_cnn_history['val_acc'])\n",
    "plt.title('Validation accuracy and loss')\n",
    "plt.ylabel('Accuracy')\n",
    "plt.subplot(212)\n",
    "# plot the validation loss\n",
    "plt.plot(pretrained_cnn_history['val_loss'], 'r')\n",
    "plt.xlabel('Epoch')\n",
    "plt.ylabel('Loss value');"
   ]
  },
  {
   "cell_type": "markdown",
   "metadata": {
    "dc": {
     "key": "73"
    },
    "deletable": false,
    "editable": false,
    "run_control": {
     "frozen": true
    },
    "tags": [
     "context"
    ]
   },
   "source": [
    "## 11. Generate predictions\n",
    "<p>Previously, we calculated an overall score for our pre-trained model on the validation set. To end this notebook, let's access probabilities and class predictions for individual images using the <code>.predict</code> and <code>.predict_classes</code> methods.</p>\n",
    "<p>We now have a deep learning model that can be used to identify honey bees and bumble bees in images! The next step is to explore transfer learning, which harnesses the prediction power of models that have been trained on far more images than the mere 1600 in our dataset.</p>"
   ]
  },
  {
   "cell_type": "code",
   "execution_count": 22,
   "metadata": {
    "dc": {
     "key": "73"
    },
    "scrolled": true,
    "tags": [
     "sample_code"
    ]
   },
   "outputs": [
    {
     "name": "stdout",
     "output_type": "stream",
     "text": [
      "First five probabilities:\n",
      "[[0.6641951 ]\n",
      " [0.60525185]\n",
      " [0.75047696]\n",
      " [0.32835406]\n",
      " [0.88149595]]\n",
      "\n",
      "First five class predictions:\n",
      "[[1]\n",
      " [1]\n",
      " [1]\n",
      " [0]\n",
      " [1]]\n",
      "\n"
     ]
    }
   ],
   "source": [
    "# predicted probabilities for x_eval\n",
    "y_proba = pretrained_cnn.predict(x_eval)\n",
    "\n",
    "print(\"First five probabilities:\")\n",
    "print(y_proba[:5])\n",
    "print(\"\")\n",
    "\n",
    "# predicted classes for x_eval\n",
    "y_pred = pretrained_cnn.predict_classes(x_eval)\n",
    "\n",
    "print(\"First five class predictions:\")\n",
    "print(y_pred[:5])\n",
    "print(\"\")"
   ]
  }
 ],
 "metadata": {
  "kernelspec": {
   "display_name": "Python 3",
   "language": "python",
   "name": "python3"
  },
  "language_info": {
   "codemirror_mode": {
    "name": "ipython",
    "version": 3
   },
   "file_extension": ".py",
   "mimetype": "text/x-python",
   "name": "python",
   "nbconvert_exporter": "python",
   "pygments_lexer": "ipython3",
   "version": "3.7.3"
  },
  "toc": {
   "base_numbering": 1,
   "nav_menu": {},
   "number_sections": true,
   "sideBar": true,
   "skip_h1_title": false,
   "title_cell": "Table of Contents",
   "title_sidebar": "Contents",
   "toc_cell": false,
   "toc_position": {},
   "toc_section_display": true,
   "toc_window_display": false
  },
  "varInspector": {
   "cols": {
    "lenName": 16,
    "lenType": 16,
    "lenVar": 40
   },
   "kernels_config": {
    "python": {
     "delete_cmd_postfix": "",
     "delete_cmd_prefix": "del ",
     "library": "var_list.py",
     "varRefreshCmd": "print(var_dic_list())"
    },
    "r": {
     "delete_cmd_postfix": ") ",
     "delete_cmd_prefix": "rm(",
     "library": "var_list.r",
     "varRefreshCmd": "cat(var_dic_list()) "
    }
   },
   "types_to_exclude": [
    "module",
    "function",
    "builtin_function_or_method",
    "instance",
    "_Feature"
   ],
   "window_display": false
  }
 },
 "nbformat": 4,
 "nbformat_minor": 4
}
